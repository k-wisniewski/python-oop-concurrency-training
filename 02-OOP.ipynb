{
 "cells": [
  {
   "cell_type": "markdown",
   "id": "5de071bc-c950-4e37-af32-7a7e803d9082",
   "metadata": {},
   "source": [
    "# Programowanie obiektowe\n",
    "> I thought of objects being like biological cells and/or individual computers on a network, only able to communicate with messages (so messaging came at the very beginning – it took a while to see how to do messaging in a programming language efficiently enough to be useful).\n",
    "> \n",
    "> Alan Kay - twórca paradygmatu obiektowego\n",
    "\n",
    "## Klasy w Pythonie"
   ]
  },
  {
   "cell_type": "code",
   "execution_count": 6,
   "id": "2c33726c-e65e-4233-a037-29dc1c9b96f4",
   "metadata": {},
   "outputs": [
    {
     "name": "stdout",
     "output_type": "stream",
     "text": [
      "Current price of NVIDIA Corporation is $421.96\n"
     ]
    },
    {
     "data": {
      "text/plain": [
       "330.11"
      ]
     },
     "execution_count": 6,
     "metadata": {},
     "output_type": "execute_result"
    }
   ],
   "source": [
    "import yfinance as yf\n",
    "\n",
    "class Stock:\n",
    "    def __init__(self, ticker, name):\n",
    "        self.ticker = ticker\n",
    "        self._company_name = name\n",
    "\n",
    "    @property\n",
    "    def current_price(self):\n",
    "        yf_stock = yf.Ticker(self.ticker)\n",
    "        return self._get_current_price() or self._get_regular_market_price()\n",
    "\n",
    "    def get_company_name(self):\n",
    "        return self._company_name\n",
    "\n",
    "    @staticmethod\n",
    "    def from_ticker2(ticker):\n",
    "        name = yf.Ticker(ticker).info.get(\"shortName\")\n",
    "        return Stock(ticker, name)\n",
    "    \n",
    "    @classmethod\n",
    "    def from_ticker(cls, ticker):\n",
    "        name = yf.Ticker(ticker).info.get(\"shortName\")\n",
    "        return cls(ticker, name)\n",
    "\n",
    "    def _get_regular_market_price(self):\n",
    "        return yf.Ticker(self.ticker).info[\"regularMarketPrice\"]\n",
    "\n",
    "    def _get_current_price(self):\n",
    "        return yf.Ticker(self.ticker).info[\"currentPrice\"]\n",
    "\n",
    "\n",
    "\n",
    "nvda = Stock.from_ticker(\"NVDA\")\n",
    "nvda.from_ticker(\"MSFT\")\n",
    "print(f\"Current price of {nvda.get_company_name()} is ${nvda.current_price:.2f}\")\n",
    "msft = Stock(\"MSFT\", \"Microsoft Corporation\")\n",
    "msft._get_current_price()"
   ]
  },
  {
   "cell_type": "markdown",
   "id": "a6427df8-c66e-452d-9179-b0762c81db15",
   "metadata": {},
   "source": [
    "Powyżej widać przykład prostej klasy reprezentującej akcje przedsiębiorstw. Co ciekawsze jej fragmenty:\n",
    "- `__init__` jest de facto tradycyjnie pojmowanym konstruktorem klasy, który działa już po zaalokowaniu pamięci na obiekt i służy do jego inicjalizacji\n",
    "- wszystkie metody biorą specjalny parametr `self` reprezentujący obiekt, na którym wołana jest metoda\n",
    "- `ticker` to pole publiczne\n",
    "- `get_company_name` jest najzwyczajniejszą metodą publiczną (tj. będącą częścią kontraktu klasy) i zwraca wartość pola prywatnego\n",
    "- `current_price` jest oznaczone jako property - w 4 od dołu linijce widać, że możemy używać tego jako pola, mimo, że jego wartość jest dynamicznie wyliczana\n",
    "- `from_ticker` to metoda klasowa (w tym przypadku tzw. `factory method`), która na pierwszym parametrze bierze obiekt, reprezentujący klasę, na której została wywołana\n",
    "- `_get_current_price` i `_get_regular_market_price` to metody prywatne (choć jak ktoś chce, to może je wywoływać poza tą klasą, bo Python tego nie zabrania - patrz ostatnia linijka - choć konwencja juz tak). Co do zasady ta konwencja pozwala zdefiniować stabilne publiczne API i API prywatne (prefiksowane `_`), którego stabilności nie gwarantuje się"
   ]
  },
  {
   "cell_type": "markdown",
   "id": "09a6555c-2b22-45de-9582-499d8c03a684",
   "metadata": {},
   "source": [
    "## Podstawy dziedziczenia\n",
    "Dziedziczenie klas to mechanizm pozwalający na realizację zależności, w której tzw. podklasa **jest** szczególnym przypadkiem klasy bazowej - np. akcja **jest** papierem wartościowym, ale np. akcja **ma** ticker. To ważne by odróżniać kiedy coś **jest** czymś, a kiedy coś **posiada** coś innego. Dziedziczenie stosuje się tylko gdy coś **jest** czymś, a nie po to by np. zaoszczędzic sobie pisania. Warto zachowywać zasady SOLID:\n",
    "- single responsibility (tylko jeden powód do zmian)\n",
    "- open/closed principle (otwartość na rozszerzanie - np. przez dziedziczenie i przedefiniowanie - oraz brak konieczności modyfikacji oryginalnej klasy)\n",
    "- Liskov substitution principle - każdy egzemplarz podklasy musi pasować w każde miejsce oczekujące na obieekt klasy bazowej\n",
    "- Interface segregation principle - kod zależący od danej klasy powinien zależeć tylko od potrzebnego mu interfejsu i nie powinien musieć zależeć od interfejsów mu niepotrzebnych\n",
    "- Dependency inversion principle - klasy powinne zależeć od abstrakcyjnych interfejsów lub klas bazowych, a nie ich konkretnych implementacji"
   ]
  },
  {
   "cell_type": "code",
   "execution_count": null,
   "id": "96f66a94-e204-43ca-9dd1-0fc7cbd5f4fa",
   "metadata": {},
   "outputs": [],
   "source": [
    "class DataSource:\n",
    "    def fetch(self, ticker, date_range):\n",
    "        df = self.load_to_dataframe(ticker)\n",
    "        df = self.standardize_dataframe(df)\n",
    "        return self.trim_to_data_range(date_range, df)\n",
    "\n",
    "    def load_to_dataframe(self, ticker):\n",
    "        raise NotImplemented()\n",
    "\n",
    "    def standardize_dataframe(self, df):\n",
    "        df.dropna(inplace=True)\n",
    "        df.sort_index(inplace=True)\n",
    "        self._drop_unwanted_cols(df)\n",
    "        return df\n",
    "\n",
    "    def _drop_unwanted_cols(self, df):\n",
    "        desired_cols = {\"Open\", \"High\", \"Low\", \"Close\", \"Volume\"}\n",
    "        for col in df.columns:\n",
    "            if col not in desired_cols:\n",
    "                df.drop(col, axis=1, inplace=True)\n",
    "\n",
    "    def trim_to_data_range(self, date_range, df):\n",
    "        return df[(df.index >= date_range.start) & (df.index <= date_range.end)]\n",
    "\n",
    "\n",
    "class LocalCSVDataSource(DataSource):\n",
    "    def __init__(self: Self, data_folder: Path) -> None:\n",
    "        self._data_folder = data_folder\n",
    "\n",
    "    def load_to_dataframe(self, ticker) -> pd.DataFrame:\n",
    "        try:\n",
    "            file_name = f\"{ticker.lower()}.us.txt\"\n",
    "            return pd.read_csv(\n",
    "                self._data_folder / file_name, parse_dates=True, index_col=0\n",
    "            )\n",
    "        except FileNotFoundError as e:\n",
    "            raise TickerNotFoundError() from e"
   ]
  },
  {
   "cell_type": "markdown",
   "id": "94a869c2-f200-4024-a9ef-383f1161c49d",
   "metadata": {},
   "source": [
    "## Wielodziedziczenie\n",
    "Python w odróżnieniu od wielu innych nowoczesnych języków programowania wspiera wielodziedziczenie. Czym jest wielodziedziczenie? Mówiliśmy, że dziedziczenie modeluje relację `is-a`. W rzeczywistości zdarza się, że taka relacja zachodzi między różnymi bytami w zależności od poziomu abstrakcji na którym ją rozpatrujemy. Np.: samochód i rower są pojazdami, ale zarówno samochód jak i radiobudzik są urządzeniami mogącymi odtwarzać radio. W obu przypadkach relacja `is-a` zachodzi i w Pythonie możemy to explicite modelować:"
   ]
  },
  {
   "cell_type": "code",
   "execution_count": null,
   "id": "dff1f45e-a8c2-46cb-9061-0871ba9b2863",
   "metadata": {},
   "outputs": [],
   "source": [
    "from typing import Self\n",
    "\n",
    "class TradableSecurity:\n",
    "    def buy(amount: int) -> int:\n",
    "        ...\n",
    "\n",
    "class EquityUnit:\n",
    "    is_voting: bool\n",
    "    share_ownership: int\n",
    "\n",
    "class Stock(EquityUnit, TradableSecurity):\n",
    "    def __init__(self: Self, ticker: str, price: int):\n",
    "        self.ticker = ticker\n",
    "        super(Stock, self).__init__(true, 1)\n",
    "        \n",
    "\n",
    "stock = Stock()\n",
    "print(f\"stock {'is' if stock.is_voting else 'is not'} voting\")\n",
    "stock.buy(10)\n",
    "print(f\"is Stock a TradableSecurity? {'yes' if isinstance(stock, TradableSecurity) else 'no'}\")\n",
    "print(f\"is Stock a EquityUnit? {'yes' if isinstance(stock, EquityUnit) else 'no'}\")"
   ]
  },
  {
   "cell_type": "markdown",
   "id": "ee31edb4-408c-4890-a567-aa6f96412007",
   "metadata": {},
   "source": [
    "### super\n",
    "`super` jest wbudowaną funkcją, z której możemy skorzystać by uzyskać dostęp do pól lub metod w wersjach zdefiniowanych w nadklasach - zwracany jest obiekt tymczasowy klasy bazowej (tak naprawdę tylko proxy), który może zostać \"związany\" z pożądaną metodą podczas jej wywołania. W swojej implementacji `super` korzysta z `mro` aby znaleźć właściwe wiązanie dla nazwy:"
   ]
  },
  {
   "cell_type": "code",
   "execution_count": 8,
   "id": "63155a07-ccf3-423b-99c1-cd33e0eb86b2",
   "metadata": {},
   "outputs": [
    {
     "name": "stdout",
     "output_type": "stream",
     "text": [
      "I'm D\n",
      "I'm B\n",
      "I'm C\n",
      "I'm A\n"
     ]
    },
    {
     "ename": "AttributeError",
     "evalue": "'super' object has no attribute 'do_something'",
     "output_type": "error",
     "traceback": [
      "\u001b[0;31m---------------------------------------------------------------------------\u001b[0m",
      "\u001b[0;31mAttributeError\u001b[0m                            Traceback (most recent call last)",
      "Cell \u001b[0;32mIn[8], line 34\u001b[0m\n\u001b[1;32m     32\u001b[0m d\u001b[38;5;241m.\u001b[39mdo_something_else_B()\n\u001b[1;32m     33\u001b[0m d\u001b[38;5;241m.\u001b[39mdo_something_else_C()\n\u001b[0;32m---> 34\u001b[0m \u001b[43md\u001b[49m\u001b[38;5;241;43m.\u001b[39;49m\u001b[43mdo_something_else_A\u001b[49m\u001b[43m(\u001b[49m\u001b[43m)\u001b[49m\n",
      "Cell \u001b[0;32mIn[8], line 27\u001b[0m, in \u001b[0;36mD.do_something_else_A\u001b[0;34m(self)\u001b[0m\n\u001b[1;32m     26\u001b[0m \u001b[38;5;28;01mdef\u001b[39;00m \u001b[38;5;21mdo_something_else_A\u001b[39m(\u001b[38;5;28mself\u001b[39m):\n\u001b[0;32m---> 27\u001b[0m     \u001b[38;5;28;43msuper\u001b[39;49m\u001b[43m(\u001b[49m\u001b[43mA\u001b[49m\u001b[43m,\u001b[49m\u001b[43m \u001b[49m\u001b[38;5;28;43mself\u001b[39;49m\u001b[43m)\u001b[49m\u001b[38;5;241;43m.\u001b[39;49m\u001b[43mdo_something\u001b[49m()\n",
      "\u001b[0;31mAttributeError\u001b[0m: 'super' object has no attribute 'do_something'"
     ]
    }
   ],
   "source": [
    "class A:\n",
    "    def do_something(self):\n",
    "        print(\"I'm A\")\n",
    "\n",
    "class B(A):\n",
    "    def do_something(self):\n",
    "        print(\"I'm B\")\n",
    "\n",
    "class C(A):\n",
    "    def do_something(self):\n",
    "        print(\"I'm C\")\n",
    "\n",
    "class D(B, C):\n",
    "    def do_something(self):\n",
    "        print(\"I'm D\")\n",
    "\n",
    "    def do_something_else_D(self):\n",
    "        super(D, self).do_something()\n",
    "\n",
    "    def do_something_else_B(self):\n",
    "        super(B, self).do_something()\n",
    "\n",
    "    def do_something_else_C(self):\n",
    "        super(C, self).do_something()\n",
    "        \n",
    "    def do_something_else_A(self):\n",
    "        super(A, self).do_something()\n",
    "\n",
    "d = D()\n",
    "d.do_something()\n",
    "d.do_something_else_D()\n",
    "d.do_something_else_B()\n",
    "d.do_something_else_C()\n",
    "d.do_something_else_A()"
   ]
  },
  {
   "cell_type": "markdown",
   "id": "a7c49b19-4fba-4d05-97c3-8ae1a775af00",
   "metadata": {},
   "source": [
    "`super()` bywa często używane gdy zachowanie override'owanej metody jest rozszerzeniem bardziej generalnego zachowania, zaimplementowanego już w klasie bazowej - szczególnie popularne jest wywoływanie konstruktora nadklasy celem inicjalizacji dziedziczonych pól."
   ]
  },
  {
   "cell_type": "code",
   "execution_count": null,
   "id": "87572fa3-6b7a-49f5-b187-42334a6ec5b5",
   "metadata": {},
   "outputs": [],
   "source": [
    "class AlphaVantageDataSource(DataSource):\n",
    "    def __init__(self, api_key):\n",
    "        self.__API_KEY = api_key\n",
    "\n",
    "    def standardize_dataframe(self, df):\n",
    "        df.columns = self._rename_columns(df)\n",
    "        df.index = self._convert_index(df)\n",
    "        super().standardize_dataframe(df)\n",
    "        self._convert_columns(df)\n",
    "        return df\n",
    "    ..."
   ]
  },
  {
   "cell_type": "code",
   "execution_count": null,
   "id": "f996a48b-95fb-4bb2-bcd8-737e8d93d261",
   "metadata": {},
   "outputs": [],
   "source": [
    "class Rectangle:\n",
    "    def __init__(self, length, width):\n",
    "        self.length = length\n",
    "        self.width = width\n",
    "\n",
    "    def area(self):\n",
    "        return self.length * self.width\n",
    "\n",
    "    def perimeter(self):\n",
    "        return 2 * self.length + 2 * self.width\n",
    "\n",
    "class Square(Rectangle):\n",
    "    def __init__(self, length):\n",
    "        super().__init__(length, length)\n",
    "\n",
    "\n",
    "s = Square(5)\n",
    "print(f\"area: {s.area()}, perimeter: {s.perimeter()}\")"
   ]
  },
  {
   "cell_type": "markdown",
   "id": "79809675-4838-4098-93f2-acaf074f4997",
   "metadata": {},
   "source": [
    "Skomplikowane hierarchie (wielo-)dziedziczenia rzadko są dobrym rozwiązaniem problemów i w porządnie zaprojektowanych programach spotyka się je relatywnie rzadko lub wcale. Problemy takie jak nieoczywsta kolejność wyszukiwania nazw, ale też niepotrzebne wiązanie ze sobą niepowiązanych konceptów (to, że coś jest prawdą w rzeczywistości nie oznacza, że jest dobrym modelem danej domeny w kodzie) sprawiły, że od paru lat raczej unika się modelowania kodu z użyciem wielodziedziczenia. Niektóre nowoczesne języki programowania jak Go w ogóle zrezygnowały z dziedziczenia (nie tylko wielodziedziczenia), zachęcając programistów do poszukiwania innych sposobów strukturyzowania ich problemów. Również w Pythonie pojawiło się kilka innych rozwiązań, które pozwalają na tworzenie kodu łatwiejszego w utrzymaniu i dalszym rozwoju.\n",
    "\n",
    "## Mixins - sensowne zastosowanie wielodziedziczenia\n",
    "\n",
    "To oczywiście nie oznacza, że wielodziedziczenie odeszło w zapomnienie - wiele frameworków używa wielodziedziczenia w sposób zgoła odmienny od modelowania relacji is-a. Zamiast tego klasy użytkownika zazwyczaj dziedziczą po klasie bazowej z frameworka oferującej podstawową funkcjonalność danego konceptu, modelując rzeczywiście tę relację, ale pozostałe klasy bazowe służą zupelnie czemu innemu. Mowa o tzw. mixins - klasach bazowych, które enkapsulują pewne zachowanie, które ciężko jednoznacznie przypisać do danego typu. Przykładowo w popularnym frameworku webowym Django możemy stworzyć widok (jako klasę) i dodać w łatwy sposób weryfikacje czy użytkownik próbujacy go użyć jest zalogowany:"
   ]
  },
  {
   "cell_type": "code",
   "execution_count": null,
   "id": "ba5b6c96-113a-4dac-ad99-eb1669b9445c",
   "metadata": {},
   "outputs": [],
   "source": [
    "class MyView(LoginRequiredMixin, View):\n",
    "    login_url = '/login/'\n",
    "    redirect_field_name = 'redirect_to'\n",
    "    ... # normal View implementation"
   ]
  },
  {
   "cell_type": "markdown",
   "id": "dbef097d-6490-4a6c-a751-4ef7c05e1687",
   "metadata": {},
   "source": [
    "Podobnych użyć mixinów jest wiele - mogą np. dodawać do widoku walidacje formularzy, paginację list obiektów etc. Zdarza sie również, że mixiny są wykorzystywane również poza frameworkami - właśnie wówczas gdy chcemy zenkapsulować pewne zachowania, które nie są zależne od konkretnego typu, a co najwyżej od pewnych jego atrybutów, a które duplikują się między różnymi, niepowiązanymi klasami. Czasami są to po prostu zachowania, które możemy też opakować w dekorator, jednak z racji na konieczność przechowywania stanu lub wyższy poziom komplikacji czytelniej je zenkapsulować w formie klas - np. [logowanie](https://github.com/senko/python-logger/blob/master/logger.py)\n",
    "\n",
    "## Metody specjalne\n",
    "Metody zaczynające i kończące swoje nazwy od `__` to tzw. metody specjalne. W Pythonie istnieje wiele specjalnych metod, realizujacych określone funkcje (np. umożliwiające iterowanie po klasach, porównywanie etc.) jednak na tym szkoleniu skupimy się w szczególności na metodach `__init__`, `__str__`, `__repr__`, `__eq__` i `__hash__` - czyli tych najczęściej spotykanych w kodzie aplikacji."
   ]
  },
  {
   "cell_type": "code",
   "execution_count": null,
   "id": "50cbd422-f026-4427-8712-00d3ac31d12e",
   "metadata": {},
   "outputs": [],
   "source": [
    "class Stock:\n",
    "    def __init__(self, ticker, name):\n",
    "        self.ticker = ticker\n",
    "        self._company_name = name\n",
    "\n",
    "    def __str__(self):\n",
    "        return f\"{self._company_name} stock\"\n",
    "\n",
    "    def __repr__(self):\n",
    "        return f\"Stock[ticker: {self.ticker}, company_name: {self._company_name}]\"\n",
    "\n",
    "    def __eq__(self, other):\n",
    "        return other.ticker == self.tickere and other._company_name == self._company_name\n",
    "\n",
    "    def __hash__(self):\n",
    "        return hash((self.ticker, self._company_name))\n"
   ]
  },
  {
   "cell_type": "markdown",
   "id": "dd8bebed-a544-40af-98a1-f787f8a59cfd",
   "metadata": {},
   "source": [
    "### `__str__`\n",
    "Ta metoda kontroluje w jaki sposób obiekty danej klasy są wypisywanie na ekran. Celem tej metody jest przedstawienie obiektu w sposób umożliwiający *ludziom* łatwe go odczytanie, inaczej mówiąc wygoda. \n",
    "\n",
    "### `__repr__`\n",
    "Ta metoda kontroluje w jaki sposób obiekty danej klasy są wypisywanie na ekran, jednak jej celem nie jest czytelność dla `ludzi` a jednoznaczność i potencjalnie przetwarzanie automatyczne. Wykorzystuje się ją np. w debuggerach by nie mieć wątpliwości o który obiekt chodzi - `__str__` może być niejednoznaczny o ile poprawia to czytelność np.: `str(\"3\") == str(3)`.\n",
    "\n",
    "### `__eq__`\n",
    "`__eq__` jest wywoływana przy porównaniu z użyciem `==` - dla obiektów domyślnie rozróżnienie następuje po referencji lub hashu, jeśli obiekt jest hashowalny. Przykładowo, mamy do zaimplementowania klasę `Money` - nie ma znaczenia, która konkretnie instancja jest w naszym posiadaniu - zamiast tego liczy się np. nominał i ilość egzemplarzy, które mamy. Aby to osiągnać nadpisujemy `__eq__` tak, by zwracała `True` zawsze gdy zgadza się nominał i ilość banknotów. \n",
    "\n",
    "### `__hash__`\n",
    "Obiekty mogą być hashowalne lub nie - jeśli mają być, to metoda specjalna `__hash__` musi być sensownie zaimplemntowana. Po co przydaje się by obiekt był hashowalny? Np. po to by mógł być kluczem w słowniku lub elementem zbioru. Aby ułatwić nam implementacje istnieje wbudowana funkcja `hash`, której można podać dowolny hashowalny argument - np. `Tuple` zawierającą pola kontrybuujące do tego, że dwa egzemplarze klasy są rozróżnialne. Jeśli egzemplarze są równe w sensie operatora `==`, to powinny mieć ten sam hash (niekoniecznie w drugą stronę). Domyślnie hashowalne są typy proste i niezmienialne kolekcje - np. `Tuple` czy `frozenset`.\n",
    "\n",
    "### Inne metody specjalne\n",
    "Wiele wbudowanych zachowań różnorakich obiektów w Pythonie jest zaimplementowana przy użyciu metod specjalnych: przykładowo, iterowanie po kolekcjach jest możliwe dzięki temu, że implementują one metody `__iter__()` i `__next__()` - korzysta z nich nawet pętla `for`! Metodami specjalnymi są operatory (np.: porównanie przy użyciu `<` jest implementowane przez `__lt__()`, mnożenie jest operatorem `__mul__` etc.), odwołania do elementów i wiele innych mechanizmów. Nie będziemy ich wszystkich omawiać, ale warto wiedzieć jak tworzyć nasze własne klasy, które mogą zyskać na naturalności użycia i być bardziej ekspresywne.\n",
    "\n",
    "### *Zadanie*\n",
    "Załóżmy przez chwilę, że nie zależy nam na szybkości obliczeń i nie chcemy używać w projekcie Pandas. W komórce poniżej zdefiniuj klasę Stock reprezentującą akcję. Jakie metody miałaby taka klasa? Czy egzemplarze tej klasy powinny być rozróżnialne, jeśli przechowują te same dane? Jeśli tak, to co powinno być jej identyfikatorem? Które metody lub które jej pola powinny być jej publicznym interfejsem? Uwzlędnij swoje odpowiedzi w kodzie poniżej:"
   ]
  },
  {
   "cell_type": "code",
   "execution_count": 1,
   "id": "0480672b-65f2-4460-a843-f5317aca35aa",
   "metadata": {},
   "outputs": [],
   "source": [
    "class Stock:\n",
    "    ..."
   ]
  },
  {
   "cell_type": "markdown",
   "id": "f3b515e8-f7e9-4223-9992-3a9fd8957e4a",
   "metadata": {},
   "source": [
    "## Dataclass\n",
    "Często klasy są jedynie kontenerami na dane, bez rozbudowanych zachowań zmieniających ich wewnętrzny stan zgodnie z pewną logiką. Obiekty tych klas powinny umożliwiać łatwe tworzenie, porównywanie, wypisywanie w czytelny sposób swojej zawartości. Począwszy od Pythona 3.7 mamy do dyspozycji bibliotekę `dataclasses`, która upraszcza tworzenie i używanie takich klas - zamiast:"
   ]
  },
  {
   "cell_type": "code",
   "execution_count": 9,
   "id": "659fd7a6-271e-4ec3-98a7-03da6f039581",
   "metadata": {},
   "outputs": [],
   "source": [
    "class Card:\n",
    "    def __init__(self, rank, suite):\n",
    "        self.rank = rank\n",
    "        self.suite = suite\n",
    "    \n",
    "    def __eq__(self, other):\n",
    "        return isinstance(other, Card) and self.rank == other.rank and self.suite == other.suite\n",
    "    \n",
    "    def __repr__(self):\n",
    "        return f\"Card({self.rank} {self.suite})\"\n",
    "\n",
    "queen_of_hearts = Card('Q', '♡')\n",
    "another_queen_of_hearts = Card('Q', '♡')\n",
    "assert queen_of_hearts == another_queen_of_hearts"
   ]
  },
  {
   "cell_type": "markdown",
   "id": "70d3de53-b7b9-492e-b943-696155df1b34",
   "metadata": {},
   "source": [
    "... możemy zrobić jedynie tyle:"
   ]
  },
  {
   "cell_type": "code",
   "execution_count": 10,
   "id": "2ae6ce1b-525a-47a0-b2d3-a7135d88c91d",
   "metadata": {},
   "outputs": [],
   "source": [
    "from dataclasses import dataclass\n",
    "\n",
    "@dataclass\n",
    "class Card:\n",
    "    rank: str\n",
    "    suite: str\n",
    "\n",
    "\n",
    "queen_of_hearts = Card('Q', '♡')\n",
    "another_queen_of_hearts = Card('Q', '♡')\n",
    "assert queen_of_hearts == another_queen_of_hearts"
   ]
  },
  {
   "cell_type": "markdown",
   "id": "695da473-c21a-460f-be0f-8f283b73e11f",
   "metadata": {},
   "source": [
    "Jak widać, `dataclasses` oszczędza nam sporo pisania - wystarczy, że odpowiednie pola zostaną zadeklarowane wraz ze swoim typem (konieczne! Ale może być to `Any`), a resztę zrobi za nas biblioteka. Przydatne bywa też uczynienie naszej klasy niezmienialną (*ang. mutable*) - nic prostszego! `dataclasses` czyni to naprawdę prostym:"
   ]
  },
  {
   "cell_type": "code",
   "execution_count": 11,
   "id": "5a574dcf-a86d-431d-b05b-b191ff139cb7",
   "metadata": {},
   "outputs": [
    {
     "ename": "FrozenInstanceError",
     "evalue": "cannot assign to field 'rank'",
     "output_type": "error",
     "traceback": [
      "\u001b[0;31m---------------------------------------------------------------------------\u001b[0m",
      "\u001b[0;31mFrozenInstanceError\u001b[0m                       Traceback (most recent call last)",
      "Cell \u001b[0;32mIn[11], line 18\u001b[0m\n\u001b[1;32m     15\u001b[0m     suite: \u001b[38;5;28mstr\u001b[39m\n\u001b[1;32m     17\u001b[0m immutable_queen_of_hearts \u001b[38;5;241m=\u001b[39m ImmutableCard(\u001b[38;5;124m'\u001b[39m\u001b[38;5;124mQ\u001b[39m\u001b[38;5;124m'\u001b[39m, \u001b[38;5;124m'\u001b[39m\u001b[38;5;124m♡\u001b[39m\u001b[38;5;124m'\u001b[39m)\n\u001b[0;32m---> 18\u001b[0m \u001b[43mimmutable_queen_of_hearts\u001b[49m\u001b[38;5;241;43m.\u001b[39;49m\u001b[43mrank\u001b[49m \u001b[38;5;241m=\u001b[39m \u001b[38;5;124m'\u001b[39m\u001b[38;5;124mK\u001b[39m\u001b[38;5;124m'\u001b[39m\n",
      "File \u001b[0;32m<string>:4\u001b[0m, in \u001b[0;36m__setattr__\u001b[0;34m(self, name, value)\u001b[0m\n",
      "\u001b[0;31mFrozenInstanceError\u001b[0m: cannot assign to field 'rank'"
     ]
    }
   ],
   "source": [
    "from dataclasses import dataclass\n",
    "\n",
    "@dataclass\n",
    "class Card:\n",
    "    rank: str\n",
    "    suite: str\n",
    "\n",
    "queen_of_hearts = Card('Q', '♡')\n",
    "queen_of_hearts.rank = 'K'\n",
    "\n",
    "\n",
    "@dataclass(frozen=True)\n",
    "class ImmutableCard:\n",
    "    rank: str\n",
    "    suite: str\n",
    "\n",
    "immutable_queen_of_hearts = ImmutableCard('Q', '♡')\n",
    "immutable_queen_of_hearts.rank = 'K'"
   ]
  },
  {
   "cell_type": "markdown",
   "id": "65d63538-0417-474e-bc07-ab67e8778dc3",
   "metadata": {},
   "source": [
    "Oczywiście, pola takich klas mogą mieć wartości domyślne:"
   ]
  },
  {
   "cell_type": "code",
   "execution_count": null,
   "id": "cb1428ff-b386-40ee-9084-ea55993cbafe",
   "metadata": {},
   "outputs": [],
   "source": [
    "from dataclasses import dataclass\n",
    "@dataclass\n",
    "class Card:\n",
    "    rank: str = get_rank()\n",
    "    suite: str = '♣'\n",
    "\n",
    "Card()"
   ]
  },
  {
   "cell_type": "markdown",
   "id": "8a4495e5-ec13-4073-baca-166a9ed09d20",
   "metadata": {},
   "source": [
    "Nie należy jednak bezpośrednio wyliczać ich wywołaniem funkcji! Jest to częsty błąd w Pythonie, polegający na użyciu mutowalnych argumentów domyślnych - logika wewnątrz `dataclasses` pod spodem wygeneruje normalną klasę, zawierającą np. konstruktor (`__init__`), który dostanie podane tu wartości jako parametry. Jeśli chcemy dynamicznie lub leniwie produkować wartości domyślne możemy to zrobić tak:"
   ]
  },
  {
   "cell_type": "code",
   "execution_count": 22,
   "id": "cad55d6c-f6d4-4cc4-badf-e88ad22be569",
   "metadata": {},
   "outputs": [
    {
     "data": {
      "text/plain": [
       "Card(rank='10', suite='♣')"
      ]
     },
     "execution_count": 22,
     "metadata": {},
     "output_type": "execute_result"
    }
   ],
   "source": [
    "from dataclasses import dataclass, field\n",
    "import random\n",
    "\n",
    "RANKS = '2 3 4 5 6 7 8 9 10 J Q K A'.split()\n",
    "SUITS = '♣ ♢ ♡ ♠'.split()\n",
    "\n",
    "@dataclass\n",
    "class Card:\n",
    "    rank: str = field(default_factory=lambda: random.choice(RANKS))\n",
    "    suite: str = '♣'\n",
    "\n",
    "Card()"
   ]
  },
  {
   "cell_type": "markdown",
   "id": "56f1b1e5-44da-49b1-b719-9a4e7cc6a1f7",
   "metadata": {},
   "source": [
    "`field` może zmieniać różne inne parametry pola - domyślną wartość (stałą), sposób reprezentacji, porównywania, liczenia hashu etc.\n",
    "\n",
    "**UWAGA**"
   ]
  },
  {
   "cell_type": "code",
   "execution_count": null,
   "id": "5ad002aa-bee8-43ec-8708-bdf3c9a00c3d",
   "metadata": {},
   "outputs": [],
   "source": [
    "# tu parametr domyślny jest wyliczany tylko raz!!!\n",
    "def fun1(x, lst = []):\n",
    "    lst.append(x)\n",
    "    return lst\n",
    "\n",
    "\n",
    "print(fun1(5))\n",
    "print(fun1(6))\n",
    "\n",
    "# fix\n",
    "def fun2(x, lst = None):\n",
    "    if not lst:\n",
    "        lst = []\n",
    "    lst.append(x)\n",
    "    return lst\n",
    "\n",
    "# print(fun2(5))\n",
    "# print(fun2(6))"
   ]
  },
  {
   "cell_type": "markdown",
   "id": "23c6be0f-f1a9-4d64-a8b1-5c7b0d8cb09b",
   "metadata": {},
   "source": [
    "#### Dataclasses vs namedtuple\n",
    "Historycznie podobną rolę do Dataclass pełniły tzw. nazwane krotki - *namedtuples*. Tworzy się je tak:"
   ]
  },
  {
   "cell_type": "code",
   "execution_count": null,
   "id": "2755df9a-9f65-449f-90f6-1c6b7c4c7058",
   "metadata": {},
   "outputs": [],
   "source": [
    "from collections import namedtuple\n",
    "\n",
    "# Definiowanie namedtuple\n",
    "Osoba = namedtuple('Osoba', ['imie', 'nazwisko', 'wiek'])\n",
    "\n",
    "# Tworzenie instancji\n",
    "jan = Osoba(imie='Jan', nazwisko='Kowalski', wiek=30)\n",
    "\n",
    "print(jan.imie)  # Wydrukuje: Jan\n",
    "print(jan[0])    # Również wydrukuje: Jan"
   ]
  },
  {
   "cell_type": "markdown",
   "id": "838574d0-b47d-4317-89aa-c0ae4b8482bb",
   "metadata": {},
   "source": [
    "Zalety namedtuples:\n",
    "-  niezmienne (immutable), co oznacza, że ich wartości nie mogą być zmieniane po utworzeniu.\n",
    "- Są mniej kosztowne pod względem pamięci niż regularne klasy.\n",
    "- Dają możliwość dostępu do pól zarówno przez nazwę, jak i indeks.\n",
    "\n",
    "Dataclasses są jednak zdecydowanie bardziej elastyczne, toteż większość projektów opartych na Pythonie 3.7 i nowszym używa Dataclass zamiast namedtuples. \n",
    "\n",
    "#### Dataclassess vs attrs\n",
    "Attrs to biblioteka zewnętrzna, która również pozwala na definiowanie klas z automatycznym generowaniem specjalnych metod, podobnie jak dataclasses, ale jest dostępna również dla starszych wersji Pythona i oferuje nieco szerszą funkcjonalność, zwłaszcza w zakresie walidacji danych. Standardowa biblioteka dataclasses była tak naprawdę zaimplementowana na wzór attr i jest względem niej intencjonalnie okrojona. Jest natomiast dostępna w każdej instalacji (C)Pythona i używa nieco krótszej składni."
   ]
  },
  {
   "cell_type": "markdown",
   "id": "afbf1cbc-e045-4b6f-ac8a-bc8d0fb4f2ed",
   "metadata": {},
   "source": [
    "## Metaklasy\n",
    "\n",
    "### Po co są metaklasy?\n",
    "Klasy w Pythonie to obiekty i mogą być tworzone dynamicznie - wystarczy podać 3 argumenty do wbudowanej funkcji `type()` - potrzebne wówczas są kolejno: nazwa nowo tworzonego typu, tupla reprezentująca kolejne nadklasy i słownik definiujący mapowanie między identyfikatorami zawartości klasy a ich wartościami:\n",
    "```\n",
    "NowaKlasa = type(\n",
    "...     'NowaKlasa',\n",
    "...     (),\n",
    "...     {\n",
    "...         'atrybut1': 'coś',\n",
    "...         'jakas_metoda': f\n",
    "...     }\n",
    "... )\n",
    "```\n",
    "\n",
    "W standardowych przypadkach, przedefiniowując metodę specjalną `__new__()` lub `__init__()`  zmieniamy sposób w jaki tworzone i inicjalizowane są obiekty. Ponieważ jednak typem obiektów reprezentujących klasy jest `type`, nadpisywanie jego metod specjalnych miałoby zdecydowanie zbyt duży efekt na już istniejące klasy. Z tego powodu próba przedefiniowania tych metod specjalnych celem zmienienia zachowania procesu tworzenia nowych typów jest zabroniona i skutkuje błędem:\n",
    "```\n",
    "TypeError: can't set attributes of built-in/extension type 'type'\n",
    "```\n",
    "Jeśli więc potrzebujemy stworzyć własną hierarchię typów, z których każdy ma takie zachowanie przedefiniowane musimy użyć metaklas, czyli stworzyć klasy dziedziczące po typie bazowym `type`. Wówczas nie ma problemu z nadpisywaniem metod specjalnych i możemy dopasować proces tworzenia klas będących obiektami takiej metaklasy bez przeszkód. Aby klasa była obiektem takiego nowego typu, musimy w jej definicji podać go w następujący sposób:\n",
    "```\n",
    "class MyMetaclass(type):\n",
    "\tdef __new__(cls, name, bases, dct):\n",
    "\t\tinstance = super().__new__(cls, name, bases, dct)\n",
    "\t\tinstance.foo = lambda x: x ** x\n",
    "\t\treturn instance\n",
    "\n",
    "class MyClass(metaclass=MyMetaclass):\n",
    "\t...\n",
    "\n",
    "MyClass().foo(2)\t\t\n",
    "```\n",
    "### Zastosowania\n",
    "\n",
    "#### ORM\n",
    "Frameworki ORM często umożiwiają stworzenie klas reprezentujących modele danych, odwzorowywane później jako tabele bazy danych. W tym celu muszą umieć generować klasy reprezentujące dane jako obiekty w Pythonie, których stan jest śledzony celem automatycznego zarządzania transakcjami do bazy danych, np.: `DeclarativeMeta` w `SQLAlchemy`, która m.in/ przechwytuje przypisania wartości pól modeli i zamienia je na zapisy w bazie danych oraz śledzi z którego połączenia z bazą danych dany obiekt pochodzi.\n",
    "\n",
    "#### FrameWorki webowe\n",
    "Django, popularny framework webowy używa metaklas w wielu miejscach, przykładowo w swoich modułach ORM oraz do przetwarzania pól formularzy (`DeclarativeFieldsMetaclass`)\n",
    "\n",
    "#### ABC\n",
    "W bibliotece standardowej znajduje się moduł `abc`, który udostępnia klasę bazową ABC. Klasy po niej dziedziczące są wówczas traktowane jako abstrakcyjne klasy bazowe i nie możliwe jest utworzenie ich instancji - zamiast tego dopiero ich podklasy, implementujące określone metody abstrakcyjne mogą być tworzone\n",
    "\n",
    "Oprócz tego metaklasy znajdują zastosowanie w przypadkach, gdy sam process tworzenia klas wymaga przedefiniowania - np. by śledzić ich obiekty, walidować porządane zachowanie dużych hierarchii typów etc."
   ]
  },
  {
   "cell_type": "code",
   "execution_count": null,
   "id": "079f0739-376c-4747-ae24-f82dd1110a08",
   "metadata": {},
   "outputs": [],
   "source": [
    "class Cokolwiek:\n",
    "    def __init__(self):\n",
    "        self.a = 5\n",
    "        self.b = \"blabla\"\n",
    "        \n",
    "    def powtorz(self):\n",
    "        return self.b * self.a\n",
    "\n",
    "class Cokolwiek2:\n",
    "    def __init__(self):\n",
    "        self.c = []\n",
    "\n",
    "    def dodaj_do_c(self, x)\n",
    "        self.c = x\n"
   ]
  },
  {
   "cell_type": "markdown",
   "id": "34432cf2-179e-4c78-a428-438717b79690",
   "metadata": {},
   "source": [
    "Należy jednak pamiętać, że zazwyczaj istnieją prostsze sposoby osiągnięcia podobnych efektów. Metaklasy są bardzo zaawansowaną funkcjonalnością języka i zazwyczaj nie powinne być używane przez 99% użytkowników. Jeśli ktoś waha się czy użyć metaklas to prawdopodobnie nie ma use-case, który by ich wymagał.\n",
    "\n",
    "\n",
    "### *Zadanie*\n",
    "\n",
    "## UWAGA ZATEGOWANIE\n",
    "```\n",
    "// Skopiuj gdzieś na zewnątrz test_tickers_*.txt\n",
    "git checkout task-metaclasses\n",
    "git checkout -b metaclasses-task-solution\n",
    "```\n",
    "Podklasy `DataSource` w pakiecie `stock_trader.acquisition.data_sources` w module `data_source` mają metodę `fetch`, która jest ich główną funkcjonalnością - zwraca `DataFrame` z `pandas` zawierający kolumny `OHLCV`. `OHLCV` to inaczej `Open High Low Close`, czyli ceny akcji z początku dnia, najwyższą i najniższą dzienną cenę i cenę z końca dnia. `V` oznacza wolumen akcji. Kod aplikacji w kilku miejscach zależy od tego, że `DataFrame` wczytany przez `DataSource` zawiera te kolumny, jednak naszym celem jest uniknięcie sprawdzania tego w każdym miejscu jego użycia. \n",
    "- Użyj metaklas do zwalidowania, że odpowiednie kolumny istnieją w zwracanym z `fetch` obiekcie\n",
    "- Przetestuj stworzone rozwiązanie\n",
    "- Jaki inny mechanizm może pomóc osiągnąć podobny cel? Zaimplementuj z jego użyciem analogiczne rozwiązanie\n",
    "- Odpal wszystkie testy stock_tradera - czy pojawiają się jakieś nietypowe błędy? Jak możemy ich uniknąć, pozostając przy rozwiązaniu opartym o metaklasy?\n",
    "\n",
    "## Modularyzacja projektów\n",
    "Gdy projekty rozrastają się, pojawia się potrzeba podzielenia ich na pakiety i zaprowadzenia w nich pewnego porządku, który:\n",
    "- umożliwia łatwą nawigację po bazie kodu\n",
    "- umożliwia możliwie jasne określenie, które elementy są interfejsem publicznym nie tylko klas, ale również pakietów\n",
    "- zarządzanie zależnościami między pakietami tak, by zmniejszać ich *coupling* i umożliwiać w miarę bezproblemową kolaborację wielu zespołów nad wspólnym repozytorium\n",
    "- elastyczną wymianę implementacji abstrakcji, bez konieczności zmiany po stronie modułów, które od nich zależą\n",
    "\n",
    "Nie istnieje jeden sposób na osiągnięcie tych celów dla dowolnej aplikacji. W zależności od domeny i rodzaju problemu można wykorzystać architekturę warstwową jak MVC, architekturę hexagonalną czy podejście pipes and filters. Przykładowa hierarchia dla aplikacji w architekturze hexagonalnej wygląda tak:\n",
    "```\n",
    "projekt\n",
    "|--src\n",
    "|     |-- bounded_context1\n",
    "|     |                  |-- adapters\n",
    "|     |                  |           |-- orm.py\n",
    "|     |                  |           |-- orm_test.py # integration tests\n",
    "|     |                  |           |-- repository.py \n",
    "|     |                  |           |-- repository_test.py # unit/integration test\n",
    "|     |                  |-- domain\n",
    "|     |                  |         |-- model.py \n",
    "|     |                  |         |-- model_test.py # unit tests\n",
    "|     |                  |-- entrypoints\n",
    "|     |                  |              |-- flask_app.py\n",
    "|     |                  |              |-- flask_app_test.py # e2e tests\n",
    "|     |                  |-- service_layer\n",
    "|     |                  |                |-- service.py \n",
    "|     |                  |                |-- service_test.py # integration tests with stubbed environment\n",
    "|     |                  |-- settings.py\n",
    "|     |-- bounded_context2\n",
    "|     |                  |-- adapters\n",
    "|     |                  |           |-- dynamodb.py\n",
    "|     |                  |           |-- dynamodb.py # integration tests\n",
    "|     |                  |           |-- repository.py \n",
    "|     |                  |           |-- repository_test.py # unit/integration test\n",
    "|     |                  |-- domain\n",
    "|     |                  |         |-- model.py \n",
    "|     |                  |         |-- model_test.py # unit tests\n",
    "|     |                  |-- entrypoints\n",
    "|     |                  |              |-- sqs.py\n",
    "|     |                  |              |-- sqs_test.py # e2e tests\n",
    "|     |                  |-- service_layer\n",
    "|     |                  |                |-- service_test.py # integration tests with stubbed environment\n",
    "|     |                  |                |-- service.py \n",
    "|     |                  |-- settings.py\n",
    "```\n",
    "Oczywiście powyższy diagram należy raczej traktować jako zachętę do rozmowy - szczegóły należy dopasować do potrzeb projektu. Nie ma powodu by np. zakładać, że dokładnie taka sama architektura jest konieczna w każdym z implementowanych przez daną usługę bounded contextów - być może bounded_context2 jest niewielkim CRUDem. Warto zadbać, by bounded contexty w tak zorganizowanym kodzie nie importowały kodu między sobą, a co najwyżej \"rozmawiały\" ze sobą wołając się nie niżej niż przez warstwę usług. \n",
    "\n",
    "Ten sposób organizacji projektu ma również inną zaletą - narzędzia takie jak setuptools umieją automatycznie odnajdywać jego zawartość, zmniejszając czas potrzebny na ich konfigurację.\n",
    "\n",
    "Dla projektu implementującego potok przetwarzania, składający się z kolejnych etapów możemy posłużyć się architekturą, gdzie kolejne etapy przetwarzania są osobnymi pakietami, a zależności między modułami są tylko poziomie abstrakcji umożliwiających wejście lub wyjście z etapu.\n",
    "Ważne jest jednak tworzenie \"bąbli czystego kodu\" - rzadko który projekt w długiej perspektywie utrzymuje swój oryginalny kształt i na koniec prawie zawsze gdzieś pojawia się dług techinczny. Odizolowane pakiety, mające mało zależności zewnętrznych są łatwiejsze w utrzymaniu i testowaniu. Przykładem takiego pakietu może być pakiet `utils` lub `trading_algorithms`, które praktycznie nie mają zewnętrznych zależności w projekcie. Ich rozwijanie jest proste, a zmiany w nich - pod warunkiem zachowania interfejsów ich klas bazowych nie powodują zmian w reszcie kodu.\n",
    "\n",
    "## Spoistość (*cohesion*)\n",
    "\n",
    "Spoistość odnosi się do stopnia, w którym elementy wewnątrz modułu lub klasy są powiązane ze sobą. Wysoki wskaźnik spoistości oznacza, że wszystkie funkcje i zmienne w module lub klasie są ściśle powiązane i współpracują ze sobą w realizacji jednego zadania. \n",
    "Jak osiągnąć wysoką spoistość?\n",
    "- Upewnij się, że każda klasa lub moduł wykonuje tylko jedno zadanie.\n",
    "- Unikaj klas \"wszystko-w-jednym\", które mają zbyt wiele odpowiedzialności.\n",
    "- Podziel duże klasy lub moduły na mniejsze, bardziej skoncentrowane jednostki.\n",
    "\n",
    "### Ocenianie spoistości *na oko*\n",
    "Jedną z prostszych heurestyk przy ocenie spoistości klas jest zwrócenie uwagi na to jaka część metod klasy używa jakiej części jej pól z danymi. Idealnie jeśli każde pole jest używane w każdej metodzie. Jeśli natomiast pola można pogrupować tak, że pewien podzbiór metod korzysta tylko z danej grupy pól to jest to mocne wskazanie do refaktoryzacji i wydzielenia nowej klasy. Można następnie użyć kompozycji do połączenia obu klas. Warto zwrócić uwagę na to, czy obiekty wydzielanej klasy mają jakąś niezależną od danych tożsamość. Jeśli nie, warto je uczynić niezmienialnymi (*immutable*) - w terminologii DDD mamy wówczas do czynienia z tzw. *Value Objectem*. W połączeniu z zasadą by każdy taki obiekt był zawsze poprawny (niepoprawne obiekty nie powinny móc być stworzone) dostajemy wówczas mechanizm znacząco poprawiający czytelność i utrzymywalność kodu. Jest to również technika, którą warto jako pierwszą zaprząc gdy mamy do czynienia z kodem, który uważamy za posiadający duży dług techniczny. Zwykle po paru iteracjach takiego wyłączania jest nam dużo łatwiej nawigować bazę kodu i dokonywać bardziej zaawansowanych refaktoryzacji.\n",
    "\n",
    "Analogicznie dla pakietów należy przeanalizować, które klasy powinny być eksportowane i czy pozostałe klasy w pakiecie służą wyłącznie do ich implementacji. Jeśli jest wiele klas i prawie każda jest przeznaczona do publicznego użycia, być może niektóre z nich zasługują na bycie w osobnym pakiecie. W ostateczności możemy też kontrolować klasy od których pozwalamy reszcie kodu zależeć przy użyciu zmiennej specjalnej `__all__` w pliku `__init__.py` w danym pakiecie. \n",
    "\n",
    "### Bardziej naukowe podejście do spoistości\n",
    "Powyższa heurystyka to uproszczenie metryki LCOM. LCOM to skrót od \"Lack of Cohesion in Methods\" (Brak Spoistości w Metodach). Jest to metryka używana w inżynierii oprogramowania do pomiaru spoistości klasy. Spoistość odnosi się do stopnia, w jakim składniki w obrębie pewnej jednostki (takiej jak klasa) są powiązane ze sobą. Klasy o wysokiej spoistości mają metody, które są ściśle powiązane z jej stanem, podczas gdy klasy o niskiej spoistości mają metody, które nie są mocno powiązane z jej stanem.\n",
    "\n",
    "LCOM jest używane do oceny, jak dobrze metody w klasie są powiązane z polami tej klasy. Istnieje kilka wariantów tej metryki (np. LCOM1, LCOM2, LCOM3, LCOM4), ale koncepcja jest podobna. Niestety w ekosystemie Pythona nie jest to szczególnie popularna praktyka - istnieje dość [amatorski projekt na PyPI](https://pypi.org/project/lcom/), natomiast pewnie lepsze wyniki przyniesie napisanie własnej wtyczki do Sonara. Jest to jednak dość żmudna praca i najczęściej rzadko uzasadniona względem heurystyki *na oko*.\n",
    "\n",
    "### Zalety dbania o spoistość\n",
    "Oto kilka powodów, dla których warto dbać o wysoką spoistość:\n",
    "\n",
    "- **Zrozumiałość**: Moduły lub klasy o wysokiej spoistości są zazwyczaj bardziej zrozumiałe, ponieważ koncentrują się na jednym zadaniu lub funkcji. Dzięki temu programiści mogą szybciej zrozumieć, co dany fragment kodu robi, nie przekopując się przez wiele niepowiązanych funkcji czy zmiennych.\n",
    "- **Łatwiejsze Utrzymanie**: Gdy moduł lub klasa ma tylko jedną odpowiedzialność, wprowadzenie zmian staje się prostsze. Jeśli chcesz coś zmienić, zmieniasz tylko ten konkretny moduł, a nie wiele innych miejsc w kodzie.\n",
    "- **Reużywalność**: Moduły o wysokiej spoistości są zazwyczaj łatwiejsze do ponownego użycia w innych projektach lub częściach tego samego projektu, ponieważ mają jedno, dobrze zdefiniowane zadanie.\n",
    "- **Mniejsze Ryzyko Błędów**: Kiedy kod ma wysoką spoistość, jest mniejsza szansa, że wprowadzenie zmian w jednej części systemu niechcący wpłynie na inną część systemu. Możesz unikać nieprzewidzianych skutków ubocznych.\n",
    "- **Lepsza Modularność**: Spoistość sprzyja tworzeniu kodu modularnego. Dzięki modularności, system można łatwiej rozbudowywać, dodając nowe moduły zamiast modyfikować istniejące.\n",
    "- **Łatwiejsze Testowanie**: Moduły lub klasy o wysokiej spoistości są łatwiejsze do testowania, ponieważ koncentrują się na jednym zadaniu. Można łatwo izolować je i pisać testy jednostkowe, które skupiają się na konkretnych funkcjonalnościach.\n",
    "\n",
    "## Pytest i zarządzanie zależnościami - demo\n",
    "- fixtures\n",
    "    - scopes\n",
    "- built-in fixtures: monkeypatch, tmp_path\n",
    "- odpalanie wybranych testów\n",
    "- \n",
    "\n",
    "## Wzorce projektowe\n",
    "\n",
    "### Singleton - antywzorzec\n",
    "Czasami chcemy mieć dokładnie jedną kopię danego obiektu w całej aplikacji. Wówczas z pomocą przychodzi wzorzec \"singleton\", który zapewnia, że podczas działania programu obiekt danej klasy zostanie utworzony dokładnie raz. Można go zaimplementować w następujący sposób:"
   ]
  },
  {
   "cell_type": "code",
   "execution_count": 2,
   "id": "bb42ae18-7922-4bbf-8697-4079faa7416c",
   "metadata": {},
   "outputs": [
    {
     "name": "stdout",
     "output_type": "stream",
     "text": [
      "True\n"
     ]
    }
   ],
   "source": [
    "class Singleton:\n",
    "    _instance = None\n",
    "\n",
    "    def __new__(cls, *args, **kwargs):\n",
    "        if not cls._instance:\n",
    "            cls._instance = super(Singleton, cls).__new__(cls, *args, **kwargs)\n",
    "        return cls._instance\n",
    "\n",
    "# Usage:\n",
    "\n",
    "singleton1 = Singleton()\n",
    "singleton2 = Singleton()\n",
    "\n",
    "print(singleton1 == singleton2)  # True, since they are the same instance\n"
   ]
  },
  {
   "cell_type": "markdown",
   "id": "ccde2350-0a54-4b5c-9e7b-6e714eb71ebe",
   "metadata": {},
   "source": [
    "Najczęściej jednak użycie takiego wzorca wiąże się ze złą organizacją kodu i powoduje liczne problemy:\n",
    "- **Globalny stan**: Singletony często reprezentują globalny stan w aplikacji. Może on wprowadzać ukryte zależności między klasami, co sprawia, że system jest trudniejszy do zrozumienia i utrzymania.\n",
    "- **Trudniejsze testowanie**: singletony mogą utrudniać testowanie jednostkowe, ponieważ trzymają w sobie stan przez cały czas życia aplikacji. Zachowany stan może prowadzić do efektów ubocznych, które czynią testy nieprzewidywalnymi. Co więcej, trudno jest zastąpić Singletona mockiem lub stubem (zazwyczaj konieczny jest monkeypatching), co prowadzi do problemów z testowaniem komponentów niezależnie od siebie.\n",
    "- **Problemy z wielowątkowością**: W środowiskach wielowątkowych zapewnienie, że instancja Singletona jest tworzona tylko raz, może być trudne lub wręcz niemożliwe. Bez odpowiedniej synchronizacji istnieje ryzyko stworzenia wielu instancji, co jest sprzeczne z celem wzorca i ma niezerowy wpływ na wydajność\n",
    "- **Skalowalność**: W systemach rozproszonych koncepcja \"jednej instancji\" staje się wyzwaniem. Jeśli aplikacja korzystająca z Singletona musi być skalowana na wielu serwerach, bardzo trudne jest zapewnie, że istnieje tylko jedna instancja Singletona, unikalna w całym systemie.\n",
    "- **Użycie pamięci**: Ponieważ instancja Singletona często jest tworzona i zachowywana przez cały czas życia aplikacji (natychmiastowa inicjalizacja), może prowadzić do niepotrzebnego zużycia pamięci, jeśli instancja jest ciężka i nie jest wymagana przez cały czas działania aplikacji.\n",
    "\n",
    "Nie oznacza to jednak, że nigdy nie wolno z takiego rozwiązania korzystać - przykładowo ciągnięcie zależności od globalnych ustawień przez kilka warst aplikacji może być mniej elegancką opcją niż zaimportowanie singletona z modułu. Warto wtedy jednak posłużyć się innym mechanizmem i skorzystać z własności systemu importów, gwarantującego jednokrotną ich inicjalizację (patrz `APP_SETTINGS` w module `settings.py`)\n",
    "### Dependency injection and inversion a testowalność klas\n",
    "Aby ułatwić testowanie i uniknąć konieczności mockowania zależności klas, możemy posłużyć się wzorcem wstrzykiwania zależności *dependency injection*. W skrócie, polega to na unikaniu tworzenia instancji obiektów wewnątrz konstruktora czy też metod klasy, a zamiast tego przyjmowaniu ich jako parametrów konstruktora i zapisywania referencji do nich w stanie obiektu. Dzięki temu podczas testowania łatwo możemy podać fake'ową implementację, która wypełnia kontrakt od którego zależy testowana klasa, a która unika efektów ubocznych i wykonuje się szybciej, lepiej izolując nasz test.\n",
    "*Przykład: data_loader_test.py*\n",
    "\n",
    "Ta technika działa wyjątkowo dobrze w połączeniu z zasadą odwrócenia zależności, której formalna definicja brzmi:\n",
    "1. Moduły wysokopoziomowe nie powinny zależeć od modułów niskopoziomowych. Oba typy powinny zależeć wyłącznie od abstrakcji\n",
    "2. Abstrakcje nie powinny zależeć od szczegółowych implementacji. Przeciwnie: szczegółowe implementacje powinny zależeć od abstrakcji\n",
    "\n",
    "Czym są owe moduły wysokopoziomowe? W skrócie: kodem domenowym, warstwą implementującą logikę biznesową. Stosując odwrócenie i wstrzykiwanie zależności można osiągnąć wysoki stopień pokrycia kodu testami (zwiększając zaufanie do ważnego dla organizacji kodu) bez spowolnienia ich wydajności (bo testy są jedynie jednostkowe).\n",
    "\n",
    "Moduły niskopoziomowe to z kolei kod stricte techniczny - adaptery kolejek w systemach rozproszonych, połączenia do bazy czy kod czytający pliki. Ich zależność od modułów wysokopoziomowych powinna istnieć wyłącznie na poziomie importowania definiowanych tam interfejsów - abstrakcyjnych klas bazowych.\n",
    "\n",
    "Sens 2 punkty definicji jest natomiast taki: izolując kod domenowy od detali implementacji sposobu przechowywania danych lub komunikowania się ze światem zewnętrznym, pozwalamy im się zmieniać w odpowiedzi na często niezależne czynniki. Powody do zmiany kodu biznesowego są najczęściej inne niż powody do zmiany kodu technicznego i odbywają się w innej kadencji.\n",
    "\n",
    "### Metoda fabryczna\n",
    "https://refactoring.guru/design-patterns/factory-method/python/example\n",
    "\n",
    "Dodatkowo, w Pythonie nie ma przeciążania funkcji i metod, więc czasem konieczne jest stworzenie metod fabrycznych by zaimplementować więcej sposobów tworzenia klas\n",
    "### Fabryka i fabryka abstrakcyjna\n",
    "Uproszczenie inicjalizacji obiektów - https://refactoring.guru/design-patterns/abstract-factory/python/example + visualizer_factory w kodzie stock tradera\n",
    "\n",
    "### *Zadanie*\n",
    "```\n",
    "git checkout design-patterns-task\n",
    "git checkout -b design-patterns-task-solution\n",
    "```\n",
    "Visualizer to klasa, której odpowiedzialnością jest rysowanie wykresów określonych wskaźników technicznych, które zostały obliczone przy użyciu klas z pakietu `trading_algorithms`. Jej interfejs, od którego zależy m.in. `PlottingWorkflow` to:\n",
    "```\n",
    "class Visualizer:\n",
    "\n",
    "    def plot(self: Self, data: pd.DataFrame, ticker: str, indicator_names: list[str]) -> None:\n",
    "        ...\n",
    "  \n",
    "```\n",
    "\n",
    "Zaimplementuj klasę (w szczególności metodę `plot`) tak, by móc rysować przynajmniej 2 wskaźniki:\n",
    "- [ ] MovingAverageConvergenceDivergence\n",
    "- [ ] RelativeStrengthIndicator\n",
    "\n",
    "Załóż, że `DataFrame` data ma je już wyliczone w kolumnach, których nazwy są przekazane w liście `indicator_names`. Pamiętaj, że jeden typ wskaźnika może wymagać >=1 linii lub słupków. Załóż, że dane są poprawne. Aby narysować wykres, należy użyć `matplotlib` - najlepiej przez wrapper `mplfinance`.\n",
    "Każdy wykres należy narysować poniżej wykresu danych OHLC. Przykładowo, aby narysować wykres samego kursu można wywołać:\n",
    "```\n",
    " mpf.plot(\n",
    "            data[[\"Open\", \"High\", \"Low\", \"Close\", \"Volume\"]],\n",
    "            type=\"candle\",\n",
    "            style=\"yahoo\",\n",
    "            volume=True,\n",
    "            title=f\"stock price for {ticker}\",\n",
    "            savefig=\"output.png\"\n",
    "        )\n",
    "```\n",
    "\n",
    "Dodatkowe podwykresy możemy dodawać przy użyciu parametru `addplot`, którego wartości możemy konstruować tak:\n",
    "```\n",
    " mpf.make_addplot(data[indicator_name], panel=1, ylabel=indicator_name)\n",
    "```\n",
    "\n",
    "Więcej przykładów można znaleźć [tu](https://github.com/matplotlib/mplfinance/tree/master/examples)\n",
    "\n",
    "W pliku `src/stock_trader/workflows/plotting.py` można znaleźć `PlottingWorkflow`, który korzysta z obiektów `Visualizera` by narysować żądany przez użytkownika wykres. W pliku `src/stock_trader/cli/commands.py` `PlottingWorkflow` jest tworzony - tam można dopasować sposób tworzenia `Visualizera`\n",
    "\n",
    "Dodatkowo:\n",
    "- [ ] jak poradzić sobie z rosnącymi wymaganiami ze strony biznesu, żądającego implementacji rysowania wielu innych typów wskaźników? Np. Boilinger Bands, On Balance Volume etc.?\n",
    "- [ ] czy klasa, którą zaimplementowaliście jest spoista? czy jest czytelna?\n",
    "\n",
    "\n",
    "### Dekorator i Łańcuch odpowiedzialności\n",
    "https://refactoring.guru/design-patterns/chain-of-responsibility + visualizer na 2 sposoby"
   ]
  }
 ],
 "metadata": {
  "kernelspec": {
   "display_name": "Python 3 (ipykernel)",
   "language": "python",
   "name": "python3"
  },
  "language_info": {
   "codemirror_mode": {
    "name": "ipython",
    "version": 3
   },
   "file_extension": ".py",
   "mimetype": "text/x-python",
   "name": "python",
   "nbconvert_exporter": "python",
   "pygments_lexer": "ipython3",
   "version": "3.11.4"
  }
 },
 "nbformat": 4,
 "nbformat_minor": 5
}
