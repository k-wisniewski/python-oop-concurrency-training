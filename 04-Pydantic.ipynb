{
 "cells": [
  {
   "cell_type": "markdown",
   "id": "2fa418f6-2a6e-4d3a-a4e0-eb17427b9097",
   "metadata": {},
   "source": [
    "# Pydantic\n",
    "\n",
    "Pydantic to biblioteka w Pythonie, która jest używana do konwersji, walidacji i serializacji danych. Podstawowym sposobem jej użycia jest zdefiniowanie modeli czyli klas dziedziczących po `BaseModel`, których struktura definiuje oczekiwany schemat danych:"
   ]
  },
  {
   "cell_type": "code",
   "execution_count": 2,
   "id": "fab1da39-6991-4bec-a8d2-a702e8243fac",
   "metadata": {},
   "outputs": [
    {
     "name": "stdout",
     "output_type": "stream",
     "text": [
      "Validation error: 1 validation error for OHLC\n",
      "  Value error, high must be the highest value [type=value_error, input_value={'date': '2023-10-03 20:0...': 99.0, 'close': 103.5}, input_type=dict]\n",
      "    For further information visit https://errors.pydantic.dev/2.4/v/value_error\n"
     ]
    }
   ],
   "source": [
    "from pydantic import BaseModel, model_validator\n",
    "from datetime import datetime\n",
    "from typing import Self\n",
    "\n",
    "class OHLC(BaseModel):\n",
    "    date: datetime\n",
    "    open: float\n",
    "    high: float\n",
    "    low: float\n",
    "    close: float\n",
    "    \n",
    "    @model_validator(mode=\"after\")\n",
    "    def validate_start_before_end(self: Self) -> Self:\n",
    "        if self.close < self.low or self.open < self.low:\n",
    "            raise ValueError(\"low must be the lowest value\")\n",
    "        if self.close > self.high or self.open > self.high:\n",
    "            raise ValueError(\"high must be the highest value\")\n",
    "        return self\n",
    "\n",
    "# dane odebrane np.: w postaci zapytania HTTP\n",
    "raw_data = {\n",
    "    \"date\": \"2023-10-03 20:00:00\",\n",
    "    \"open\": 110.0,\n",
    "    \"high\": 105.0,\n",
    "    \"low\": 99.0,\n",
    "    \"close\": 103.5\n",
    "}\n",
    "\n",
    "# Konwersja na obiekt klasy OHLC powoduje walidację i ew. rzucenie wyjątkiem ValueError\n",
    "try:\n",
    "    ohlc_entry = OHLC(**raw_data)\n",
    "    print(\"Data is correct!\")\n",
    "except ValueError as e:\n",
    "    print(f\"Validation error: {e}\")"
   ]
  },
  {
   "cell_type": "markdown",
   "id": "eea024a8-8b79-4d88-9cf8-becd5dae30b8",
   "metadata": {},
   "source": [
    "W powyższym przykładzie klasa OHLC jest modelem i definiuje 2 metody walidujące określone aspekty danych. Następnie pod koniec przykładu konwertujemy słownik `raw_data` na obiekt OHLC, uruchamiając logikę walidującą. Pydantic bazuje na metodach oznaczonych jako `@model_validator` lub `@field_validator` oraz typach danych pól zdefiniowanych w modelu.\n",
    "\n",
    "## Konwersja typów\n",
    "Jeśli to możliwe, przekazane dane zostają automatycznie skonwertowane na typy zadeklarowane przy użyciu anotacji typowych:"
   ]
  },
  {
   "cell_type": "code",
   "execution_count": null,
   "id": "ade086d4-066b-4605-994e-5e7a1226433a",
   "metadata": {},
   "outputs": [],
   "source": [
    "from pydantic import BaseModel\n",
    "\n",
    "class Person(BaseModel):\n",
    "    name: str\n",
    "    age: int\n",
    "\n",
    "p = Person(name=\"Alan\", age=\"25\")\n",
    "print(f\"age is of type {type(p.age)} and has value {p.age}\")"
   ]
  },
  {
   "cell_type": "code",
   "execution_count": null,
   "id": "5672252a-23d3-4639-99a1-cafa9267d47d",
   "metadata": {},
   "outputs": [],
   "source": [
    "from pydantic import BaseModel\n",
    "\n",
    "class Person(BaseModel):\n",
    "    name: str\n",
    "    age: int\n",
    "\n",
    "try:\n",
    "    p = Person(name=\"Alan\", age=\"dwadzieścia pięć\")\n",
    "    print(f\"age is of type {type(p.age)} and has value {p.age}\")\n",
    "except ValueError as e:\n",
    "    print(e.errors())"
   ]
  },
  {
   "cell_type": "markdown",
   "id": "a630bd51-fe28-425b-b46e-5c1a70a93522",
   "metadata": {},
   "source": [
    "Automatycznie dostajemy możliwość konwersji obiektów danego modelu na słowniki:"
   ]
  },
  {
   "cell_type": "code",
   "execution_count": null,
   "id": "585aaece-8b03-43c1-babf-7e3a3a3e9946",
   "metadata": {},
   "outputs": [],
   "source": [
    "from pydantic import BaseModel\n",
    "\n",
    "class Person(BaseModel):\n",
    "    name: str\n",
    "    age: int\n",
    "\n",
    "    \n",
    "p = Person(name=\"Alan\", age=25)\n",
    "p.model_dump()"
   ]
  },
  {
   "cell_type": "markdown",
   "id": "dd9dd0fb-afbc-43b8-90fe-0a19b783c29a",
   "metadata": {},
   "source": [
    "... lub prosto do JSON-owego stringa:"
   ]
  },
  {
   "cell_type": "code",
   "execution_count": null,
   "id": "31e3cdf8-5f37-4a7b-a66b-9f46f0693bb7",
   "metadata": {},
   "outputs": [],
   "source": [
    "from pydantic import BaseModel\n",
    "\n",
    "class Person(BaseModel):\n",
    "    name: str\n",
    "    age: int\n",
    "\n",
    "    \n",
    "p = Person(name=\"Alan\", age=25)\n",
    "p.model_dump_json()"
   ]
  },
  {
   "cell_type": "markdown",
   "id": "6009a306-3afe-4f5e-a07c-b624b109e0e1",
   "metadata": {},
   "source": [
    "Możliwe jest także tworzenie instancji modelu bezpośrednio z JSON-a:"
   ]
  },
  {
   "cell_type": "code",
   "execution_count": null,
   "id": "80c47c84-269e-4980-a39a-4cb7d031c9c9",
   "metadata": {},
   "outputs": [],
   "source": [
    "Person.model_validate_json('{\"name\":\"Alan\",\"age\":25}')"
   ]
  },
  {
   "cell_type": "markdown",
   "id": "f1b2c4d3-42ee-4d3c-8628-62d167820942",
   "metadata": {},
   "source": [
    "... lub słownika:"
   ]
  },
  {
   "cell_type": "code",
   "execution_count": null,
   "id": "4964a465-9b4b-449c-ac9c-94235a8d163b",
   "metadata": {},
   "outputs": [],
   "source": [
    "Person.model_validate({'name': 'Adam', 'age': 23})"
   ]
  },
  {
   "cell_type": "markdown",
   "id": "a6f19037-db3b-4f5d-ab4c-c5107120325d",
   "metadata": {},
   "source": [
    "## Strict mode\n",
    "W trybie *strict* nie następuje standardowa konwersja typów - dla obiektów Pythona wymagana jest pełna zgodność typowa. Wyjątkiem jest konwersja z JSON-a, gdzie konieczne jest dopuszczanie pewnej niezgodności (np. UUID jako str)."
   ]
  },
  {
   "cell_type": "code",
   "execution_count": null,
   "id": "541779f3-04d9-4769-9221-506b4eb3ae4f",
   "metadata": {},
   "outputs": [],
   "source": [
    "from pydantic import BaseModel, ValidationError\n",
    "class Person(BaseModel):\n",
    "    name: str\n",
    "    age: int\n",
    "\n",
    "print(Person.model_validate({'name': 'Adrian', 'age': '123'}))  # lax mode\n",
    "#> x=123\n",
    "\n",
    "try:\n",
    "    Person.model_validate({'name': 'Adrian', 'age': '123'}, strict=True)  # strict mode\n",
    "except ValidationError as exc:\n",
    "    print(exc)"
   ]
  },
  {
   "cell_type": "markdown",
   "id": "00775090-065c-49c6-8c9e-2bedbdb9aab3",
   "metadata": {},
   "source": [
    "Tryb \"strict\" można włączać dla całego modelu (np.: przez `config_dict`), dla pojedynczych pól czy podczas wołania `model_validate`"
   ]
  },
  {
   "cell_type": "markdown",
   "id": "070c9c3e-6b25-4cc5-ab7a-f6901b9c3ca6",
   "metadata": {},
   "source": [
    "## Wartości domyślne i pola\n",
    "Modele Pydantica mogą mieć wartości domyślne:"
   ]
  },
  {
   "cell_type": "code",
   "execution_count": null,
   "id": "1c8d651f-2773-436c-89a8-385a68f7129f",
   "metadata": {},
   "outputs": [],
   "source": [
    "class Student(BaseModel):\n",
    "    name: str\n",
    "    gpa: decimal.Decimal = decimal.Decimal(\"4.5\")"
   ]
  },
  {
   "cell_type": "markdown",
   "id": "6e6f73c0-fe4a-42ba-943b-b8d22d3b12d8",
   "metadata": {},
   "source": [
    "... jednak muszą być one stałymi, znanymi w momencie definicji pola. Wynika to z automatycznej konwersji tak zadeklarowanych pól na parametry konstruktora. Jak wiadomo, parametry domyślne funkcji są wyliczane jedynie raz, gdy moduł definiujący funkcje jest po raz pierwszy ładowany. W przypadku wartości wyliczanych dynamicznie skutkowałoby to dość zaskakującym zachowaniem. Aby jednak osiągnąć ten sam efekt, możemy posłużyć się mechanizmem tak zwanych pól (ang. *fields*):"
   ]
  },
  {
   "cell_type": "code",
   "execution_count": null,
   "id": "510be884-b278-4f97-8f3c-b9ba42500a3f",
   "metadata": {},
   "outputs": [],
   "source": [
    "import time\n",
    "import uuid\n",
    "from decimal import Decimal\n",
    "from typing import Annotated\n",
    "from pydantic import BaseModel, Field, AliasPath, AliasChoices\n",
    "\n",
    "\n",
    "def fetch_gpa():\n",
    "    # udajemy, że pobieramy dane z internetu:\n",
    "    time.sleep(1)\n",
    "    print(\"fetching....\")\n",
    "    return Decimal('4.5')\n",
    "\n",
    "class Student(BaseModel):\n",
    "    id: Annotated[str, Field(default_factory=lambda: uuid.uuid4().hex)]\n",
    "    first_name: str = Field(\n",
    "        validation_alias=AliasPath('name', 0),\n",
    "        pattern=r'^[A-Z]\\w+$'\n",
    "    )\n",
    "    last_name: str = Field(\n",
    "        validation_alias=AliasPath('name', 1),\n",
    "        pattern=r'^[A-Z]\\w+$'\n",
    "    )\n",
    "    gpa: Decimal = Field(\n",
    "        default_factory=fetch_gpa,\n",
    "        alias=AliasChoices('srednia', 'gpa'),\n",
    "        ge=Decimal('2.0'),\n",
    "        le=Decimal('5.0'),\n",
    "        repr=False\n",
    "    )\n",
    "\n",
    "janek = Student(name=[\"Janek\", \"Kowalski\"])\n",
    "print(repr(janek))\n",
    "\n",
    "zosia = Student(name=[\"Zosia\", \"Kowalska\"], gpa=Decimal('4.8'))\n",
    "print(repr(zosia))\n",
    "\n",
    "hania = Student(name=[\"Hania\", \"Nowak\"], srednia='4.75')\n",
    "print(repr(hania))"
   ]
  },
  {
   "cell_type": "markdown",
   "id": "e8ea4e21-8d64-4ca4-bd37-518521ce1ef0",
   "metadata": {},
   "source": [
    "*Fields* mogą służyć nie tylko do dynamicznego generowania wartości domyślnych pól, ale również definiować ich aliasy, walidować wartości numeryczne czy zgodność z wyrażeniem regularnym."
   ]
  },
  {
   "cell_type": "markdown",
   "id": "a945dc95-bfdc-47a8-823c-7b3602a32c9e",
   "metadata": {},
   "source": [
    "## Generowanie schemy JSON\n",
    "Pydantic umożliwia proste generowanie schemy JSON (ang. *jsonschema*) z modeli lub tak naprawdę dowolnych typów:"
   ]
  },
  {
   "cell_type": "code",
   "execution_count": null,
   "id": "b9277f62-b208-4f00-9bae-b33b778fb75c",
   "metadata": {},
   "outputs": [],
   "source": [
    "import time\n",
    "import uuid\n",
    "import json\n",
    "from decimal import Decimal\n",
    "from typing import Annotated\n",
    "from pydantic import BaseModel, Field\n",
    "\n",
    "class Student(BaseModel):\n",
    "    id: Annotated[str, Field(default_factory=lambda: uuid.uuid4().hex)]\n",
    "    name: str\n",
    "    gpa: Decimal\n",
    "\n",
    "print(json.dumps(Student.model_json_schema(), indent=2))"
   ]
  },
  {
   "cell_type": "code",
   "execution_count": null,
   "id": "ccbbb299-142a-4d40-88fa-db73417d4605",
   "metadata": {},
   "outputs": [],
   "source": [
    "from pydantic import TypeAdapter\n",
    "\n",
    "adapter = TypeAdapter(list[int])\n",
    "adapter.json_schema()"
   ]
  },
  {
   "cell_type": "markdown",
   "id": "bf2476bf-8722-463e-b953-18ed86124b57",
   "metadata": {},
   "source": [
    "## Niezmienialność (*Immutability*)\n",
    "Podobnie jak `dataclasses`, modele Pydanticowe mogą być niezmienialne - służy do tego parametr `frozen=True|False`, który może działać na poziomie pól:"
   ]
  },
  {
   "cell_type": "code",
   "execution_count": 56,
   "id": "197b0f92-82b9-4e18-a37b-f4597da45fe6",
   "metadata": {},
   "outputs": [
    {
     "name": "stdout",
     "output_type": "stream",
     "text": [
      "1 validation error for User\n",
      "name\n",
      "  Field is frozen [type=frozen_field, input_value='Jane', input_type=str]\n",
      "    For further information visit https://errors.pydantic.dev/2.4/v/frozen_field\n"
     ]
    }
   ],
   "source": [
    "from pydantic import BaseModel, Field, ValidationError\n",
    "\n",
    "\n",
    "class User(BaseModel):\n",
    "    name: str = Field(frozen=True)\n",
    "    age: int\n",
    "\n",
    "\n",
    "user = User(name='John', age=42)\n",
    "\n",
    "try:\n",
    "    user.name = 'Jane'  \n",
    "except ValidationError as e:\n",
    "    print(e)"
   ]
  },
  {
   "cell_type": "markdown",
   "id": "c1cb1b65-bca9-4393-a1ea-6400cfbcbdd6",
   "metadata": {},
   "source": [
    "Tak stworzone obiekty nie mogą mieć nadpisywanych pól oznaczonych jako \"frozen\". Aby stworzyć ich kopię ze zmienioną wartością należy użyć `model_copy`:"
   ]
  },
  {
   "cell_type": "code",
   "execution_count": 57,
   "id": "0be5944a-690c-4559-a94f-a11923c4c44e",
   "metadata": {},
   "outputs": [
    {
     "name": "stdout",
     "output_type": "stream",
     "text": [
      "name='Ian' age=42\n"
     ]
    }
   ],
   "source": [
    "from pydantic import BaseModel, Field, ValidationError\n",
    "\n",
    "\n",
    "class User(BaseModel):\n",
    "    name: str = Field(frozen=True)\n",
    "    age: int\n",
    "\n",
    "\n",
    "user = User(name='John', age=42)\n",
    "\n",
    "try:\n",
    "    user2 = user.model_copy(update={'name': 'Ian'})\n",
    "    print(user2)\n",
    "except ValidationError as e:\n",
    "    print(e)\n",
    "    \"\"\"\n",
    "    1 validation error for User\n",
    "    name\n",
    "      Field is frozen [type=frozen_field, input_value='Jane', input_type=str]\n",
    "    \"\"\""
   ]
  },
  {
   "cell_type": "markdown",
   "id": "e7f0cd72-3c23-4ea2-b39d-c8d26d24c08e",
   "metadata": {},
   "source": [
    "## Wydajność\n",
    "https://docs.pydantic.dev/latest/concepts/performance/"
   ]
  },
  {
   "cell_type": "markdown",
   "id": "83128a47-2a1a-44af-ab63-4198b17bbb1f",
   "metadata": {},
   "source": [
    "## *Zadanie*\n",
    "```\n",
    "git checkout task-date-range\n",
    "git checkout -b date-range-solution\n",
    "pip-sync\n",
    "```\n",
    "W wielu miejscach kodu `StockTradera` używamy zakresu dat reprezentowanego przez obiekty klasy `DateRange`. Zmodyfikuj tę klasę z użyciem Pydantic tak, by:\n",
    "- nie możliwe było stworzenie jej obiektów gdy start jest później niż koniec (start < end)\n",
    "- nie możliwe było stworzenie jej obiektów metodami fabrycznymi years|months|days|hours_back, gdy podamy ujemne parametry\n",
    "- metoda `from_last` akceptowała tylko napisy, w postaci, która jest parsowalna bez zmiany treści tej metody\n",
    "- po utworzeniu nie było możliwe zmienianie wartości jej pól\n",
    "\n",
    "## *Zadanie*\n",
    "```\n",
    "git checkout task-alpha-vantage\n",
    "git checkout -b alpha-vantage-task-solution\n",
    "```\n",
    "W implementacji `DataSource`, która integruje się z Alpha Vantage dane są pobierane zapytaniem HTTP w postaci JSONa. Użyj Pydantica do jego zwalidowania zanim utworzymy z niego nowy `DataFrame`. W pliku `src/stock_trader/acquisition/data_sources/test_data/example_alpha_vantage_response.json` znajduje się przykładowy json przysłany w odpowiedzi z serwera.\n",
    "- utwórz odpowiedni model Pydantica i przetestuj jego działanie na przykładowej odpowiedzi w powyższym pliku\n",
    "- zintegruj swój kod z `AlphaVantageDataSource` - dane z odpowiedzi HTTP są przetwarzane w metodzie `_fetch_raw_data`\n",
    "- jeśli masz konto na Alpha Vantage użyj swojego tokena i odpal kilkukrotnie stock_tradera podając token w parametrze `--alpha-vantage-api-key`\n",
    "    - jak zachowuje się aplikacja gdy zapytanie trafia na rate limit?\n",
    "    - (opcjonalnie) zaimplementuj ponawianie zapytania w przypadku błędu. Darmowy klucz Alpha Vantage umożliwia 5 zapytań na minutę."
   ]
  }
 ],
 "metadata": {
  "kernelspec": {
   "display_name": "Python 3 (ipykernel)",
   "language": "python",
   "name": "python3"
  },
  "language_info": {
   "codemirror_mode": {
    "name": "ipython",
    "version": 3
   },
   "file_extension": ".py",
   "mimetype": "text/x-python",
   "name": "python",
   "nbconvert_exporter": "python",
   "pygments_lexer": "ipython3",
   "version": "3.11.4"
  }
 },
 "nbformat": 4,
 "nbformat_minor": 5
}
